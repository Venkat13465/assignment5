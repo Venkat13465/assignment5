{
  "nbformat": 4,
  "nbformat_minor": 0,
  "metadata": {
    "colab": {
      "provenance": [],
      "include_colab_link": true
    },
    "kernelspec": {
      "name": "python3",
      "display_name": "Python 3"
    },
    "language_info": {
      "name": "python"
    }
  },
  "cells": [
    {
      "cell_type": "markdown",
      "metadata": {
        "id": "view-in-github",
        "colab_type": "text"
      },
      "source": [
        "<a href=\"https://colab.research.google.com/github/Venkat13465/assignment5/blob/main/Assignment_5.ipynb\" target=\"_parent\"><img src=\"https://colab.research.google.com/assets/colab-badge.svg\" alt=\"Open In Colab\"/></a>"
      ]
    },
    {
      "cell_type": "code",
      "execution_count": 1,
      "metadata": {
        "id": "OrFAtYRiW3Pu",
        "colab": {
          "base_uri": "https://localhost:8080/"
        },
        "outputId": "9a08113c-4920-4fd6-aa8b-45f640eecb36"
      },
      "outputs": [
        {
          "output_type": "stream",
          "name": "stdout",
          "text": [
            "\u001b[2K   \u001b[90m━━━━━━━━━━━━━━━━━━━━━━━━━━━━━━━━━━━━━━━━\u001b[0m \u001b[32m31.3/31.3 MB\u001b[0m \u001b[31m57.8 MB/s\u001b[0m eta \u001b[36m0:00:00\u001b[0m\n",
            "\u001b[?25h"
          ]
        }
      ],
      "source": [
        "# Install required libraries:\n",
        "# - `transformers`: for using pretrained models from Hugging Face\n",
        "# - `datasets`: for loading benchmark NLP datasets (not used here but often needed)\n",
        "# - `faiss-cpu`: Facebook AI Similarity Search library for vector search (CPU version)\n",
        "!pip install -q transformers datasets faiss-cpu"
      ]
    },
    {
      "cell_type": "markdown",
      "source": [
        "Ingestion"
      ],
      "metadata": {
        "id": "f7Fy9BwBnEVc"
      }
    },
    {
      "cell_type": "code",
      "source": [
        "# Define a multi-line string `sample_text` containing information about Albert Einstein.\n",
        "sample_text=\"\"\"\n",
        "Albert Einstein was a theoretical physicist who developed the theory of relativity,\n",
        " one of the two pillars of modern physics (alongside quantum mechanics). His work is also\n",
        " known for its influence on the philosophy of science. He is best known to the general public\n",
        " for his mass-energy equivalence formula E = mc².\n",
        "\"\"\""
      ],
      "metadata": {
        "id": "5PRlFY6cllTu"
      },
      "execution_count": 2,
      "outputs": []
    },
    {
      "cell_type": "markdown",
      "source": [
        "Embedding"
      ],
      "metadata": {
        "id": "Q7RS08iPnHTp"
      }
    },
    {
      "cell_type": "code",
      "source": [
        "# Import the tokenizer and model loading tools from Hugging Face Transformers\n",
        "from transformers import AutoTokenizer, AutoModel\n",
        "\n",
        "# Import PyTorch, a deep learning library used to run the model and manage tensors\n",
        "import torch\n",
        "\n",
        "# Import NumPy, a library used for numerical operations and array manipulations\n",
        "import numpy as np\n",
        "\n",
        "# Define the name of the pretrained model to be used for creating sentence embeddings\n",
        "model_name = \"sentence-transformers/all-MiniLM-L6-v2\"\n",
        "\n",
        "# Load the tokenizer for the model (used to convert text into tokens/numbers)\n",
        "tokenizer = AutoTokenizer.from_pretrained(model_name)\n",
        "\n",
        "# Load the pretrained transformer model itself (used to generate embeddings)\n",
        "model = AutoModel.from_pretrained(model_name)\n",
        "\n",
        "\n",
        "# Define a function to convert text into vector embeddings using the loaded model\n",
        "def get_embeddings(text):\n",
        "  # Tokenize the input text and convert to PyTorch tensor with padding and truncation\n",
        "  tokens = tokenizer(text, return_tensors='pt', truncation=True, padding=True) # Changed return_tensor to return_tensors\n",
        "\n",
        "  # Disable gradient computation (no training, only inference)\n",
        "  with torch.no_grad():\n",
        "    # Pass the tokenized input into the model to get the output\n",
        "    outputs = model(**tokens)\n",
        "\n",
        "  # Take the mean of all token embeddings across the sequence (dimension 1) to get a single vector\n",
        "  return outputs.last_hidden_state.mean(dim=1).squeeze().numpy()"
      ],
      "metadata": {
        "id": "E2ddcMNamyGg"
      },
      "execution_count": 6,
      "outputs": []
    },
    {
      "cell_type": "markdown",
      "source": [
        "Retrival"
      ],
      "metadata": {
        "id": "zO9WHuIOqTLb"
      }
    },
    {
      "cell_type": "code",
      "source": [
        "# Import FAISS, a library used for fast similarity search over vectors\n",
        "import faiss\n",
        "\n",
        "# Create a list of chunks — here only one: the sample text about Einstein\n",
        "chunks = [sample_text]\n",
        "\n",
        "# Generate vector embeddings for each text chunk\n",
        "embeddings = [get_embeddings(chunk) for chunk in chunks]\n",
        "\n",
        "# Determine the dimensionality of the embeddings (i.e., length of one embedding vector)\n",
        "dim = len(embeddings[0])\n",
        "\n",
        "# Initialize a FAISS index for flat (brute-force) L2 distance search\n",
        "index = faiss.IndexFlatL2(dim)\n",
        "\n",
        "# Add all generated embeddings into the FAISS index for search\n",
        "index.add(np.array(embeddings))"
      ],
      "metadata": {
        "id": "1sQh4KBLmx8m"
      },
      "execution_count": 8,
      "outputs": []
    },
    {
      "cell_type": "code",
      "source": [
        "# Import a pipeline from Hugging Face to use a text2text model for answering questions\n",
        "from transformers import pipeline\n",
        "\n",
        "# Create a QA pipeline using Google's FLAN-T5 model (text2text format)\n",
        "qa_pipeline = pipeline(\"text2text-generation\", model=\"google/flan-t5-small\")\n",
        "\n",
        "# Define a function that takes a query, retrieves relevant text, and generates an answer\n",
        "def retrive_and_answer(query, top_k=1):  # top_k: number of most relevant chunks to retrieve\n",
        "\n",
        "  # Convert the query into an embedding vector\n",
        "  query_embedding = get_embeddings(query).reshape(1, -1)\n",
        "\n",
        "  # Perform vector similarity search in FAISS to get the closest chunks\n",
        "  _, indices = index.search(query_embedding, top_k)\n",
        "\n",
        "  # Retrieve the most relevant text chunks based on the index\n",
        "  retrived_texts = [chunks[i] for i in indices[0]]\n",
        "\n",
        "  # Concatenate all retrieved texts into a single context string\n",
        "  context = \" \".join(retrived_texts)\n",
        "\n",
        "  # Create a prompt that combines the context with the question\n",
        "  prompt = f'Context: {context} \\nQuestion :{query} \\nAnswer: '\n",
        "\n",
        "  # Pass the prompt to the QA model to generate an answer\n",
        "  result = qa_pipeline(prompt, max_length=100, do_sample=False)\n",
        "\n",
        "  # Return only the generated answer text\n",
        "  return result[0]['generated_text']"
      ],
      "metadata": {
        "id": "KAZcrPd-uHxP",
        "colab": {
          "base_uri": "https://localhost:8080/"
        },
        "outputId": "2a6e7e67-e6ac-4f72-a8a2-60bd571749bc"
      },
      "execution_count": 10,
      "outputs": [
        {
          "output_type": "stream",
          "name": "stderr",
          "text": [
            "Device set to use cpu\n"
          ]
        }
      ]
    },
    {
      "cell_type": "code",
      "source": [
        "Question=\"What is Albert Einstein known for?\"\n",
        "Answer=retrive_and_answer(Question)\n",
        "print(\"Q:\",Question)\n",
        "print(\"A:\",Answer)"
      ],
      "metadata": {
        "colab": {
          "base_uri": "https://localhost:8080/"
        },
        "id": "RGfwngtX1Gw6",
        "outputId": "8afe7e9f-d82b-4b55-fd09-30450201300d"
      },
      "execution_count": 11,
      "outputs": [
        {
          "output_type": "stream",
          "name": "stderr",
          "text": [
            "Both `max_new_tokens` (=256) and `max_length`(=100) seem to have been set. `max_new_tokens` will take precedence. Please refer to the documentation for more information. (https://huggingface.co/docs/transformers/main/en/main_classes/text_generation)\n"
          ]
        },
        {
          "output_type": "stream",
          "name": "stdout",
          "text": [
            "Q: What is Albert Einstein known for?\n",
            "A: his mass-energy equivalence formula E = mc2\n"
          ]
        }
      ]
    }
  ]
}